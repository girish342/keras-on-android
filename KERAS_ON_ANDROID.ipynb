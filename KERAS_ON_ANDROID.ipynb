{
  "nbformat": 4,
  "nbformat_minor": 0,
  "metadata": {
    "colab": {
      "name": "KERAS ON ANDROID.ipynb",
      "version": "0.3.2",
      "provenance": [],
      "include_colab_link": true
    },
    "kernelspec": {
      "name": "python3",
      "display_name": "Python 3"
    },
    "accelerator": "GPU"
  },
  "cells": [
    {
      "cell_type": "markdown",
      "metadata": {
        "id": "view-in-github",
        "colab_type": "text"
      },
      "source": [
        "<a href=\"https://colab.research.google.com/github/girish342/keras-on-android/blob/master/KERAS_ON_ANDROID.ipynb\" target=\"_parent\"><img src=\"https://colab.research.google.com/assets/colab-badge.svg\" alt=\"Open In Colab\"/></a>"
      ]
    },
    {
      "cell_type": "code",
      "metadata": {
        "id": "0WsGaABUCAt_",
        "colab_type": "code",
        "colab": {}
      },
      "source": [
        "import os\n",
        "import os.path as path\n",
        "\n",
        "import keras\n",
        "\n",
        "from keras.datasets import mnist\n",
        "from keras.models import Sequential\n",
        "from keras.layers import Input,Dense,Dropout,Flatten,Conv2D,MaxPooling2D\n",
        "from keras import backend as K                                # i dont know this\n",
        "\n",
        "import tensorflow as tf\n",
        "from tensorflow.python.tools import freeze_graph                # i dont kmow\n",
        "from tensorflow.python.tools import optimize_for_inference_lib  # i dont know\n",
        "\n",
        "\n",
        "\n"
      ],
      "execution_count": 0,
      "outputs": []
    },
    {
      "cell_type": "code",
      "metadata": {
        "id": "p3L9NjfJEUZX",
        "colab_type": "code",
        "colab": {}
      },
      "source": [
        "MODEL_NAME = 'mnist_convnet'\n",
        "EPOCHS = 1\n",
        "BATCH_SIZE = 128\n"
      ],
      "execution_count": 0,
      "outputs": []
    },
    {
      "cell_type": "code",
      "metadata": {
        "id": "Dq9Gg84oFHdd",
        "colab_type": "code",
        "colab": {}
      },
      "source": [
        "def load_data():\n",
        "  \n",
        "  (x_train,y_train),(x_test,y_test) = mnist.load_data()\n",
        "  x_train = x_train.reshape(x_train.shape[0],28,28,1)\n",
        "  x_test = x_test.reshape(x_test.shape[0],28,28,1)\n",
        "  x_train = x_train.astype('float32')                  # we convert into float type so that data easily fits into RAM\n",
        "  x_test = x_test.astype('float32')\n",
        "  x_train /= 255\n",
        "  x_test /= 255                                        # normlising data\n",
        "  y_train = keras.utils.to_categorical(y_train, 10)\n",
        "  y_test = keras.utils.to_categorical(y_test, 10)\n",
        "  return x_train, y_train, x_test, y_test\n",
        "\n",
        "  \n",
        "  \n",
        "  \n",
        "  \n",
        "  \n",
        "  \n",
        "  \n",
        "  "
      ],
      "execution_count": 0,
      "outputs": []
    },
    {
      "cell_type": "code",
      "metadata": {
        "id": "Cj4Lnd-3LaTg",
        "colab_type": "code",
        "colab": {}
      },
      "source": [
        "def build_model():\n",
        "  model = Sequential()\n",
        "  model.add(Conv2D(filters=64, kernel_size=3, strides=1, \\\n",
        "                   padding='same', activation='relu', \\\n",
        "                   input_shape=[28, 28, 1]))\n",
        "  \n",
        "  model.add(MaxPooling2D(pool_size=2, strides=2, padding='same'))\n",
        "  \n",
        "  \n",
        "  model.add(Conv2D(filters=128, kernel_size=3, strides=1, \\\n",
        "            padding='same', activation='relu'))\n",
        "  \n",
        "  model.add(MaxPooling2D(pool_size=2, strides=2, padding='same'))\n",
        "  \n",
        "  \n",
        "  model.add(Conv2D(filters=256, kernel_size=3, strides=1, \\\n",
        "             padding='same', activation='relu'))\n",
        "  \n",
        "  model.add(MaxPooling2D(pool_size=2, strides=2, padding='same'))\n",
        "  \n",
        "  \n",
        "  model.add(Flatten())\n",
        "  model.add(Dense(1024, activation='relu'))\n",
        "  \n",
        "  model.add(Dense(10, activation='softmax'))\n",
        "  return model\n",
        "  \n",
        "    \n",
        "    \n",
        "  "
      ],
      "execution_count": 0,
      "outputs": []
    },
    {
      "cell_type": "code",
      "metadata": {
        "id": "AkT2MhgUOupw",
        "colab_type": "code",
        "colab": {}
      },
      "source": [
        "def train(model, x_train, y_train, x_test, y_test):\n",
        "    model.compile(loss=keras.losses.categorical_crossentropy, \n",
        "                  optimizer=keras.optimizers.Adadelta(), \n",
        "                  metrics=['accuracy'])\n",
        "    model.fit(x_train, y_train, \n",
        "              batch_size=BATCH_SIZE, \n",
        "              epochs=EPOCHS,\n",
        "              verbose=1, \n",
        "              validation_data=(x_test, y_test))\n"
      ],
      "execution_count": 0,
      "outputs": []
    },
    {
      "cell_type": "code",
      "metadata": {
        "id": "QIL12HSBOusY",
        "colab_type": "code",
        "outputId": "b6dbbacd-6f6b-429b-beef-3f1ea814439e",
        "colab": {
          "base_uri": "https://localhost:8080/",
          "height": 411
        }
      },
      "source": [
        "def export_model(saver, model, input_node_names, output_node_name):\n",
        "  \n",
        "    tf.train.write_graph(K.get_session().graph_def, 'out', \\\n",
        "        MODEL_NAME + '_graph.pbtxt')\n",
        "\n",
        "    saver.save(K.get_session(), 'out/' + MODEL_NAME + '.chkp')\n",
        "\n",
        "    freeze_graph.freeze_graph('out/' + MODEL_NAME + '_graph.pbtxt', None, \\\n",
        "        False, 'out/' + MODEL_NAME + '.chkp', output_node_name, \\\n",
        "        \"save/restore_all\", \"save/Const:0\", \\\n",
        "        'out/frozen_' + MODEL_NAME + '.pb', True, \"\")\n",
        "\n",
        "    input_graph_def = tf.GraphDef()\n",
        "    with tf.gfile.Open('out/frozen_' + MODEL_NAME + '.pb', \"rb\") as f:\n",
        "        input_graph_def.ParseFromString(f.read())\n",
        "\n",
        "    output_graph_def = optimize_for_inference_lib.optimize_for_inference(\n",
        "            input_graph_def, input_node_names, [output_node_name],\n",
        "            tf.float32.as_datatype_enum)\n",
        "\n",
        "    with tf.gfile.FastGFile('out/opt_' + MODEL_NAME + '.pb', \"wb\") as f:\n",
        "        f.write(output_graph_def.SerializeToString())\n",
        "\n",
        "    print(\"graph saved!\")\n",
        "\n",
        "\n",
        "def main():\n",
        "    if not path.exists('out'):\n",
        "        os.mkdir('out')\n",
        "\n",
        "    x_train, y_train, x_test, y_test = load_data()\n",
        "\n",
        "    model = build_model()\n",
        "\n",
        "    train(model, x_train, y_train, x_test, y_test)\n",
        "\n",
        "    export_model(tf.train.Saver(), model, [\"conv2d_1_input\"], \"dense_2/Softmax\")\n",
        "\n",
        "\n",
        "if __name__ == '__main__':\n",
        "  \n",
        "    main()"
      ],
      "execution_count": 0,
      "outputs": [
        {
          "output_type": "stream",
          "text": [
            "Train on 60000 samples, validate on 10000 samples\n",
            "Epoch 1/1\n",
            "60000/60000 [==============================] - 8s 127us/step - loss: 0.2169 - acc: 0.9313 - val_loss: 0.0329 - val_acc: 0.9886\n",
            "WARNING:tensorflow:From /usr/local/lib/python3.6/dist-packages/tensorflow/python/tools/freeze_graph.py:249: FastGFile.__init__ (from tensorflow.python.platform.gfile) is deprecated and will be removed in a future version.\n",
            "Instructions for updating:\n",
            "Use tf.gfile.GFile.\n",
            "WARNING:tensorflow:From /usr/local/lib/python3.6/dist-packages/tensorflow/python/tools/freeze_graph.py:127: checkpoint_exists (from tensorflow.python.training.checkpoint_management) is deprecated and will be removed in a future version.\n",
            "Instructions for updating:\n",
            "Use standard file APIs to check for files with this prefix.\n",
            "INFO:tensorflow:Restoring parameters from out/mnist_convnet.chkp\n",
            "WARNING:tensorflow:From /usr/local/lib/python3.6/dist-packages/tensorflow/python/tools/freeze_graph.py:232: convert_variables_to_constants (from tensorflow.python.framework.graph_util_impl) is deprecated and will be removed in a future version.\n",
            "Instructions for updating:\n",
            "Use tf.compat.v1.graph_util.convert_variables_to_constants\n",
            "WARNING:tensorflow:From /usr/local/lib/python3.6/dist-packages/tensorflow/python/framework/graph_util_impl.py:245: extract_sub_graph (from tensorflow.python.framework.graph_util_impl) is deprecated and will be removed in a future version.\n",
            "Instructions for updating:\n",
            "Use tf.compat.v1.graph_util.extract_sub_graph\n",
            "INFO:tensorflow:Froze 10 variables.\n",
            "INFO:tensorflow:Converted 10 variables to const ops.\n",
            "WARNING:tensorflow:From /usr/local/lib/python3.6/dist-packages/tensorflow/python/tools/optimize_for_inference_lib.py:113: remove_training_nodes (from tensorflow.python.framework.graph_util_impl) is deprecated and will be removed in a future version.\n",
            "Instructions for updating:\n",
            "Use tf.compat.v1.graph_util.remove_training_nodes\n",
            "graph saved!\n"
          ],
          "name": "stdout"
        }
      ]
    }
  ]
}